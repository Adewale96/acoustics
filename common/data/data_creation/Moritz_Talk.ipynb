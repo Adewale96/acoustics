{
 "cells": [
  {
   "cell_type": "code",
   "execution_count": 1,
   "metadata": {},
   "outputs": [],
   "source": [
    "%matplotlib inline\n",
    "import scipy.io\n",
    "import scipy.io.wavfile\n",
    "import sounddevice as sd\n",
    "import numpy as np\n",
    "import soundfile as sf\n",
    "\n",
    "import matplotlib.pyplot as plt"
   ]
  },
  {
   "cell_type": "code",
   "execution_count": 2,
   "metadata": {},
   "outputs": [
    {
     "data": {
      "text/plain": [
       "42.074625"
      ]
     },
     "execution_count": 2,
     "metadata": {},
     "output_type": "execute_result"
    }
   ],
   "source": [
    "complete_mixture_length_in_s = 673194 / 16000\n",
    "complete_mixture_length_in_s"
   ]
  },
  {
   "cell_type": "code",
   "execution_count": 3,
   "metadata": {},
   "outputs": [],
   "source": [
    "def play_from_filepath(fp, name='mixture', framerate=16000, start_in_s=0):\n",
    "    sound = scipy.io.loadmat(fp)\n",
    "    print('mixture shape: ' + (str(sound['earSout'].shape)))\n",
    "    play_from_array(sound['earSout'], name, framerate, start_in_s=start_in_s)\n",
    "    \n",
    "    \n",
    "def play_from_array(sound, name, framerate, start_in_s=0):\n",
    "    start_frame = int(start_in_s * framerate)\n",
    "    sound_arr = sound[start_frame:]\n",
    "    # somehow try to invert the second axis - may resolve the feeling that the events happen on the left side\n",
    "    #sound_arr = np.swapaxes(np.swapaxes(sound_arr, 0, sound_arr)[::-1], 0, 1)\n",
    "    sf.write('demo_sound_{}_start{}s.wav'.format(name, str(start_in_s)), sound_arr, framerate)\n",
    "    sd.play(sound_arr, framerate)"
   ]
  },
  {
   "cell_type": "code",
   "execution_count": 4,
   "metadata": {},
   "outputs": [
    {
     "name": "stdout",
     "output_type": "stream",
     "text": [
      "mixture shape: (673194, 2)\n"
     ]
    }
   ],
   "source": [
    "# master\n",
    "fp = \"/Users/Heiner/repos/binaural_audition/common/data/data_creation/generalSoundsNI.phone.TelephoneElectron+6037_36_3.wav.mat\"\n",
    "play_from_filepath(fp, 'mixture_TelephoneElectron+6037_36_3', start_in_s=25)"
   ]
  },
  {
   "cell_type": "code",
   "execution_count": 5,
   "metadata": {},
   "outputs": [],
   "source": [
    "sd.stop()"
   ]
  },
  {
   "cell_type": "code",
   "execution_count": 43,
   "metadata": {},
   "outputs": [],
   "source": [
    "SNR_MASTER = 0\n",
    "SNR_DISTRACTOR1 = -20\n",
    "SNR_DISTRACTOR2 = 12\n",
    "\n",
    "def SNR_RATES(SNR_MASTER, SNR_DISTRACTOR1, SNR_DISTRACTOR2, SNR_DEVIATION_RATE = 0.9):\n",
    "    SNR_BIGGEST = max(SNR_MASTER, SNR_DISTRACTOR1, SNR_DISTRACTOR2)\n",
    "    SNR_SMALLEST = min(SNR_MASTER, SNR_DISTRACTOR1, SNR_DISTRACTOR2)\n",
    "    SNR_DIFF = SNR_BIGGEST - SNR_SMALLEST\n",
    "\n",
    "    SNR_MASTER *= SNR_DEVIATION_RATE\n",
    "    SNR_DISTRACTOR1 *= SNR_DEVIATION_RATE\n",
    "    SNR_DISTRACTOR2 *= SNR_DEVIATION_RATE\n",
    "    \n",
    "    if SNR_SMALLEST < 0:\n",
    "        SNR_ADD = abs(SNR_SMALLEST)\n",
    "        SNR_MASTER += SNR_ADD\n",
    "        SNR_DISTRACTOR1 += SNR_ADD\n",
    "        SNR_DISTRACTOR2 += SNR_ADD\n",
    "    SNR_MASTER_RATE = SNR_MASTER / SNR_DIFF\n",
    "    SNR_DISTRACTOR1_RATE = SNR_DISTRACTOR1 / SNR_DIFF\n",
    "    SNR_DISTRACTOR2_RATE = SNR_DISTRACTOR2 / SNR_DIFF\n",
    "    return SNR_MASTER_RATE, SNR_DISTRACTOR1_RATE, SNR_DISTRACTOR2_RATE\n",
    "\n",
    "SNR_MASTER_RATE, SNR_DISTRACTOR1_RATE, SNR_DISTRACTOR2_RATE = SNR_RATES(SNR_MASTER, SNR_DISTRACTOR1, SNR_DISTRACTOR2)"
   ]
  },
  {
   "cell_type": "code",
   "execution_count": 7,
   "metadata": {},
   "outputs": [
    {
     "name": "stderr",
     "output_type": "stream",
     "text": [
      "/Users/Heiner/anaconda3/lib/python3.6/site-packages/scipy/io/wavfile.py:273: WavFileWarning: Chunk (non-data) not understood, skipping it.\n",
      "  WavFileWarning)\n"
     ]
    }
   ],
   "source": [
    "# distractor 1\n",
    "\n",
    "fp = '/Users/Heiner/repos/binaural_audition/common/data/data_creation/distractor1_no2_CloseOutsideMic2.wav'\n",
    "array, framerate = sf.read(fp) \n",
    "play_from_array(array, 'distractor1_no2', framerate, start_in_s=25-1.9219)\n",
    "sd.stop()\n",
    "\n",
    "fp = '/Users/Heiner/repos/binaural_audition/common/data/data_creation/distractor1_no3_BAG-PAPER_GEN-HDF-02778.wav'\n",
    "onset = 32.850875\n",
    "framerate, array = scipy.io.wavfile.read(fp)\n",
    "play_from_array(array, 'distractor1_no3', framerate, start_in_s=0)\n",
    "sd.stop()\n",
    "\n",
    "fp = '/Users/Heiner/repos/binaural_audition/common/data/data_creation/distractor1_no4_ScissorPaper_DIGIF5-88.wav'\n",
    "onset = 38.6094375\n",
    "framerate, array = scipy.io.wavfile.read(fp)\n",
    "time_sound = int((complete_mixture_length_in_s - onset) * framerate)\n",
    "array = array[:time_sound, :]\n",
    "play_from_array(array, 'distractor1_no4', framerate, start_in_s=0)\n",
    "sd.stop()\n",
    "\n",
    "# distractor 2\n",
    "\n",
    "fp = '/Users/Heiner/repos/binaural_audition/common/data/data_creation/distractor2_no3_CartoonFootsteps+4003_46_1.wav'\n",
    "onset = 12.0458125\n",
    "framerate, array = scipy.io.wavfile.read(fp)\n",
    "time_sound = int((complete_mixture_length_in_s - onset) * framerate)\n",
    "array = array[:time_sound, :]\n",
    "play_from_array(array, 'distractor2_no3', framerate, start_in_s=25-12.0458)\n",
    "sd.stop()"
   ]
  },
  {
   "cell_type": "code",
   "execution_count": 59,
   "metadata": {},
   "outputs": [],
   "source": [
    "def plot_from_array(sound, name, framerate, start_in_s=0, xlim=None, ylim=None, SNR_RATE=1):\n",
    "    # Three subplots sharing both x/y axes\n",
    "    f, ax1 = plt.subplots(1, figsize=(10, 3))\n",
    "    \n",
    "    start_frame = int(start_in_s * framerate)\n",
    "    x = np.arange(start_frame, start_frame + sound.shape[0], 1)\n",
    "    x = x / framerate\n",
    "    \n",
    "    ax1.plot(x, SNR_RATE*sound[:, 0])\n",
    "    plt.setp([a.set_yticks([]) for a in f.axes[:]])\n",
    "    if ylim is not None:\n",
    "        plt.setp([a.set_ylim(ylim) for a in f.axes[:]])\n",
    "    if xlim is not None:\n",
    "        plt.setp([a.set_xlim(xlim) for a in f.axes[:]])\n",
    "    plt.savefig(name + '.pdf')\n",
    "    plt.show()"
   ]
  },
  {
   "cell_type": "code",
   "execution_count": 7,
   "metadata": {},
   "outputs": [],
   "source": [
    "def concat_sources(fps):\n",
    "    arrays = []\n",
    "    framerates = []\n",
    "    for fp in fps:\n",
    "        array, framerate = sf.read(fp) \n",
    "        shape = array.shape\n",
    "        if len(shape) == 1: \n",
    "            array = array[:, np.newaxis]\n",
    "            shape = array.shape\n",
    "            if shape[1] == 1:\n",
    "                array = np.repeat(array, 2, axis=1)\n",
    "        arrays.append(array)\n",
    "        framerates.append(framerate)\n",
    "    if len(np.unique(np.array(framerates))) != 1:\n",
    "        raise ValueError('Differen framerates!')\n",
    "    return arrays, framerates[0]\n",
    "\n",
    "def merge_sources(last_frame, arrays, start_frames_in_source, start_frames_in_result):\n",
    "    result = np.full((last_frame, 2), np.nan)\n",
    "    for array, start_frame_in_source, start_frame_in_result in zip(arrays, start_frames_in_source, start_frames_in_result):\n",
    "        shape = array.shape\n",
    "        length = shape[0] - start_frame_in_source\n",
    "        if start_frame_in_result+length > last_frame:\n",
    "            stop_in_result = last_frame\n",
    "            stop_in_source = start_frame_in_source + (stop_in_result - start_frame_in_result)\n",
    "        else:\n",
    "            stop_in_result = start_frame_in_result+length\n",
    "            stop_in_source = shape[0]\n",
    "        result[start_frame_in_result:stop_in_result, :] = array[start_frame_in_source:stop_in_source, :]\n",
    "    return result"
   ]
  },
  {
   "cell_type": "code",
   "execution_count": 68,
   "metadata": {},
   "outputs": [],
   "source": [
    "# distractor 1\n",
    "\n",
    "fps = ['/Users/Heiner/repos/binaural_audition/common/data/data_creation/distractor1_no2_CloseOutsideMic2.wav', '/Users/Heiner/repos/binaural_audition/common/data/data_creation/distractor1_no3_BAG-PAPER_GEN-HDF-02778.wav', '/Users/Heiner/repos/binaural_audition/common/data/data_creation/distractor1_no4_ScissorPaper_DIGIF5-88.wav']\n",
    "arrays, framerate = concat_sources(fps)\n",
    "\n",
    "start_in_s = 25-1.9219\n",
    "start_frame_in_source_no2 = int(start_in_s * framerate)\n",
    "start_frame_in_source_no3 = 0\n",
    "start_frame_in_source_no4 = 0\n",
    "start_frames_in_source = [start_frame_in_source_no2, start_frame_in_source_no3, start_frame_in_source_no4]\n",
    "\n",
    "last_frame = int(complete_mixture_length_in_s * framerate) - int(25 * framerate)\n",
    "\n",
    "start_frame_in_result_no2 = 0\n",
    "start_frame_in_result_no3 = int((32.850875-25) * framerate)\n",
    "start_frame_in_result_no4 = int((38.6094375-25) * framerate)\n",
    "start_frames_in_result = [start_frame_in_result_no2, start_frame_in_result_no3, start_frame_in_result_no4]\n",
    "\n",
    "result_distr1 = merge_sources(last_frame, arrays, start_frames_in_source, start_frames_in_result)"
   ]
  },
  {
   "cell_type": "code",
   "execution_count": 69,
   "metadata": {},
   "outputs": [],
   "source": [
    "# distractor 2\n",
    "\n",
    "fps = ['/Users/Heiner/repos/binaural_audition/common/data/data_creation/distractor2_no3_CartoonFootsteps+4003_46_1.wav']\n",
    "arrays, framerate = concat_sources(fps)\n",
    "\n",
    "start_in_s = 25-12.0458125\n",
    "start_frame_in_source_no3 = int(start_in_s * framerate)\n",
    "start_frames_in_source = [start_frame_in_source_no3]\n",
    "\n",
    "last_frame = int(complete_mixture_length_in_s * framerate) - int(25 * framerate)\n",
    "\n",
    "start_frame_in_result_no3 = 0\n",
    "start_frames_in_result = [start_frame_in_result_no3]\n",
    "\n",
    "result_distr2 = merge_sources(last_frame, arrays, start_frames_in_source, start_frames_in_result)"
   ]
  },
  {
   "cell_type": "code",
   "execution_count": 70,
   "metadata": {},
   "outputs": [],
   "source": [
    "# master\n",
    "\n",
    "fps = ['/Users/Heiner/repos/binaural_audition/common/data/data_creation/master_TelephoneElectron+6037_36_3.wav', '/Users/Heiner/repos/binaural_audition/common/data/data_creation/master_TelephoneElectron+6037_36_3.wav']\n",
    "arrays, framerate = concat_sources(fps)\n",
    "\n",
    "start_in_s = 25-14.524875\n",
    "start_frame_in_source_no2 = int(start_in_s * framerate)\n",
    "start_frame_in_source_no3 = 0\n",
    "start_frames_in_source = [start_frame_in_source_no2, start_frame_in_source_no3, start_frame_in_source_no4]\n",
    "\n",
    "last_frame = int(complete_mixture_length_in_s * framerate) - int(25 * framerate)\n",
    "\n",
    "start_frame_in_result_no2 = 0\n",
    "start_frame_in_result_no3 = int((28.54975-25) * framerate)\n",
    "start_frames_in_result = [start_frame_in_result_no2, start_frame_in_result_no3, start_frame_in_result_no4]\n",
    "\n",
    "result_master = merge_sources(last_frame, arrays, start_frames_in_source, start_frames_in_result)"
   ]
  },
  {
   "cell_type": "code",
   "execution_count": 71,
   "metadata": {},
   "outputs": [
    {
     "name": "stdout",
     "output_type": "stream",
     "text": [
      "\n",
      "\n"
     ]
    },
    {
     "data": {
      "image/png": "[encoded data removed]",
      "text/plain": [
       "<Figure size 720x216 with 1 Axes>"
      ]
     },
     "metadata": {},
     "output_type": "display_data"
    },
    {
     "name": "stdout",
     "output_type": "stream",
     "text": [
      "\n",
      "\n"
     ]
    },
    {
     "data": {
      "image/png": "[encoded data removed]",
      "text/plain": [
       "<Figure size 720x216 with 1 Axes>"
      ]
     },
     "metadata": {},
     "output_type": "display_data"
    },
    {
     "name": "stdout",
     "output_type": "stream",
     "text": [
      "\n",
      "\n"
     ]
    },
    {
     "data": {
      "image/png": "[encoded data removed]",
      "text/plain": [
       "<Figure size 720x216 with 1 Axes>"
      ]
     },
     "metadata": {},
     "output_type": "display_data"
    }
   ],
   "source": [
    "plot_from_array(result_distr1, 'distractor1', framerate, start_in_s=25, xlim=(25, 42), ylim=ylim, SNR_RATE=SNR_DISTRACTOR1_RATE)\n",
    "plot_from_array(result_distr2, 'distractor2', framerate, start_in_s=25, xlim=(25, 42), ylim=ylim, SNR_RATE=SNR_DISTRACTOR2_RATE)\n",
    "plot_from_array(result_master, 'master', framerate, start_in_s=25, xlim=(25, 42), ylim=ylim, SNR_RATE=SNR_MASTER_RATE)"
   ]
  },
  {
   "cell_type": "code",
   "execution_count": 73,
   "metadata": {},
   "outputs": [
    {
     "name": "stdout",
     "output_type": "stream",
     "text": [
      "\n"
     ]
    },
    {
     "data": {
      "image/png": "[encoded data removed]",
      "text/plain": [
       "<Figure size 720x216 with 1 Axes>"
      ]
     },
     "metadata": {},
     "output_type": "display_data"
    }
   ],
   "source": [
    "# mixture\n",
    "\n",
    "fps = ['/Users/Heiner/repos/binaural_audition/common/data/data_creation/demo_sound_mixture_TelephoneElectron+6037_36_3_start25s.wav']\n",
    "arrays, framerate = concat_sources(fps)\n",
    "\n",
    "start_frames_in_source = [0]\n",
    "\n",
    "last_frame = int(complete_mixture_length_in_s * framerate) - int(25 * framerate)\n",
    "\n",
    "start_frames_in_result = [0]\n",
    "\n",
    "result_mixture = merge_sources(last_frame, arrays, start_frames_in_source, start_frames_in_result)\n",
    "plot_from_array(result_mixture, 'mixture', framerate, start_in_s=25, xlim=(25, 42), SNR_RATE=1)"
   ]
  },
  {
   "cell_type": "code",
   "execution_count": 61,
   "metadata": {},
   "outputs": [
    {
     "data": {
      "text/plain": [
       "(-0.46384429931640631, 0.46384429931640631)"
      ]
     },
     "execution_count": 61,
     "metadata": {},
     "output_type": "execute_result"
    }
   ],
   "source": [
    "abs_max = np.abs(np.nanmax([np.nanmax(result_distr1)*SNR_DISTRACTOR1_RATE, np.nanmax(result_distr2)*SNR_DISTRACTOR2_RATE, np.nanmax(result_master)*SNR_MASTER_RATE]))\n",
    "abs_min = np.abs(np.nanmin([np.nanmin(result_distr1)*SNR_DISTRACTOR1_RATE, np.nanmin(result_distr2)*SNR_DISTRACTOR2_RATE, np.nanmin(result_master)*SNR_MASTER_RATE]))\n",
    "maxi = np.maximum(abs_max, abs_min)\n",
    "ylim = (-maxi * 1.1, maxi * 1.1)\n",
    "ylim"
   ]
  },
  {
   "cell_type": "code",
   "execution_count": 67,
   "metadata": {},
   "outputs": [
    {
     "name": "stdout",
     "output_type": "stream",
     "text": [
      "\n",
      "\n"
     ]
    },
    {
     "data": {
      "image/png": "[encoded data removed]",
      "text/plain": [
       "<Figure size 720x216 with 1 Axes>"
      ]
     },
     "metadata": {},
     "output_type": "display_data"
    },
    {
     "name": "stdout",
     "output_type": "stream",
     "text": [
      "\n",
      "\n"
     ]
    },
    {
     "data": {
      "image/png": "[encoded data removed]",
      "text/plain": [
       "<Figure size 720x216 with 1 Axes>"
      ]
     },
     "metadata": {},
     "output_type": "display_data"
    },
    {
     "name": "stdout",
     "output_type": "stream",
     "text": [
      "\n",
      "\n"
     ]
    },
    {
     "data": {
      "image/png": "[encoded data removed]",
      "text/plain": [
       "<Figure size 720x216 with 1 Axes>"
      ]
     },
     "metadata": {},
     "output_type": "display_data"
    },
    {
     "name": "stdout",
     "output_type": "stream",
     "text": [
      "\n"
     ]
    },
    {
     "data": {
      "image/png": "[encoded data removed]",
      "text/plain": [
       "<Figure size 720x216 with 1 Axes>"
      ]
     },
     "metadata": {},
     "output_type": "display_data"
    }
   ],
   "source": []
  },
  {
   "cell_type": "code",
   "execution_count": 3,
   "metadata": {},
   "outputs": [],
   "source": [
    "data = np.load('/Users/Heiner/repos/binaural_audition/common/data/data_creation/generalSoundsNI.phone.TelephoneElectron+6037_36_3.wav.mat.npz')"
   ]
  },
  {
   "cell_type": "code",
   "execution_count": 9,
   "metadata": {},
   "outputs": [
    {
     "data": {
      "text/plain": [
       "(752990, 13)"
      ]
     },
     "execution_count": 9,
     "metadata": {},
     "output_type": "execute_result"
    }
   ],
   "source": [
    "data['y'][0, 25*100:,:].shape\n",
    "matched_data_part = np.repeat(data['y'][0, 25*100:,:], framerate / 100, axis=0)\n",
    "matched_data = np.full((result_master.shape[0], 13), np.nan)\n",
    "matched_data[:matched_data_part.shape[0], :] = matched_data_part\n",
    "matched_data.shape"
   ]
  },
  {
   "cell_type": "code",
   "execution_count": 10,
   "metadata": {},
   "outputs": [],
   "source": [
    "labels = ['alarm', 'baby', 'femaleSpeech',  'fire', 'crash', 'dog', 'engine', 'footsteps', 'knock', 'phone', 'piano', 'maleSpeech', 'femaleScreammaleScream']"
   ]
  },
  {
   "cell_type": "code",
   "execution_count": 48,
   "metadata": {},
   "outputs": [
    {
     "name": "stderr",
     "output_type": "stream",
     "text": [
      "/Users/Heiner/anaconda3/lib/python3.6/site-packages/ipykernel_launcher.py:10: RuntimeWarning: invalid value encountered in greater_equal\n",
      "  # Remove the CWD from sys.path while we load stuff.\n",
      "/Users/Heiner/anaconda3/lib/python3.6/site-packages/ipykernel_launcher.py:12: RuntimeWarning: invalid value encountered in greater_equal\n",
      "  if sys.path[0] == '':\n"
     ]
    },
    {
     "data": {
      "image/png": "[encoded data removed]",
      "text/plain": [
       "<Figure size 720x166.154 with 1 Axes>"
      ]
     },
     "metadata": {},
     "output_type": "display_data"
    }
   ],
   "source": [
    "sparse = True\n",
    "\n",
    "\n",
    "if not sparse:\n",
    "    fig, ax1 = plt.subplots(1,1, figsize=(10, 10))\n",
    "    plot_data = np.copy(matched_data)\n",
    "    ax1.set_yticks(np.arange(0, 13))\n",
    "    ax1.set_yticklabels(labels)\n",
    "else:\n",
    "    non_empty = np.where(np.any(matched_data>=1, axis=0))[0]\n",
    "    fig, ax1 = plt.subplots(1,1, figsize=(10, (10/13)*len(non_empty)))\n",
    "    non_empty = np.where(np.any(matched_data>=1, axis=0))[0]\n",
    "    plot_data = np.copy(matched_data)\n",
    "    plot_data = plot_data[:, non_empty]\n",
    "    ax1.set_yticks(np.arange(0, len(non_empty)))\n",
    "    ax1.set_yticklabels([labels[index] for index in non_empty])\n",
    "    \n",
    "ax1.imshow(plot_data.T, cmap='Greys', aspect='auto')\n",
    "x = np.arange(framerate, matched_data.shape[0], 2*framerate)\n",
    "x_labels = np.arange(26, 44, 2)\n",
    "ax1.set_xticks(x)\n",
    "ax1.set_xticklabels(x_labels)\n",
    "xlim=((25-25), (42-25)*framerate)\n",
    "ax1.set_xlim(xlim)\n",
    "plt.show()"
   ]
  },
  {
   "cell_type": "code",
   "execution_count": null,
   "metadata": {},
   "outputs": [],
   "source": [
    "# distr 1: piano, general, general\n",
    "# distr 2: footsteps\n",
    "# master: phone"
   ]
  },
  {
   "cell_type": "code",
   "execution_count": 27,
   "metadata": {},
   "outputs": [],
   "source": [
    "labels = ['alarm', 'baby', 'femaleSpeech',  'fire', 'crash', 'dog', 'engine', 'footsteps', 'knock', 'phone', 'piano', 'maleSpeech', 'femaleScreammaleScream']"
   ]
  },
  {
   "cell_type": "code",
   "execution_count": 23,
   "metadata": {},
   "outputs": [
    {
     "data": {
      "text/plain": [
       "752990"
      ]
     },
     "execution_count": 23,
     "metadata": {},
     "output_type": "execute_result"
    }
   ],
   "source": [
    "result_master.shape[0]"
   ]
  },
  {
   "cell_type": "code",
   "execution_count": null,
   "metadata": {},
   "outputs": [],
   "source": [
    "# framerate pro sekunden\n",
    "# framerate / 1000 pro millisekunde\n",
    "# framerate / 100 pro 10 millisekunde"
   ]
  }
 ],
 "metadata": {
  "kernelspec": {
   "display_name": "Python 3",
   "language": "python",
   "name": "python3"
  },
  "language_info": {
   "codemirror_mode": {
    "name": "ipython",
    "version": 3
   },
   "file_extension": ".py",
   "mimetype": "text/x-python",
   "name": "python",
   "nbconvert_exporter": "python",
   "pygments_lexer": "ipython3",
   "version": "3.6.5"
  }
 },
 "nbformat": 4,
 "nbformat_minor": 2
}
