{
 "cells": [
  {
   "cell_type": "code",
   "execution_count": 1,
   "metadata": {},
   "outputs": [],
   "source": [
    "%matplotlib inline\n",
    "import scipy.io\n",
    "import scipy.io.wavfile\n",
    "import sounddevice as sd\n",
    "import numpy as np\n",
    "import soundfile as sf\n",
    "\n",
    "import matplotlib.pyplot as plt\n",
    "plt.rcParams['svg.fonttype'] = 'none'"
   ]
  },
  {
   "cell_type": "code",
   "execution_count": 2,
   "metadata": {},
   "outputs": [
    {
     "data": {
      "text/plain": [
       "42.074625"
      ]
     },
     "execution_count": 2,
     "metadata": {},
     "output_type": "execute_result"
    }
   ],
   "source": [
    "complete_mixture_length_in_s = 673194 / 16000\n",
    "complete_mixture_length_in_s"
   ]
  },
  {
   "cell_type": "code",
   "execution_count": 3,
   "metadata": {},
   "outputs": [],
   "source": [
    "def play_from_filepath(fp, name='mixture', framerate=16000, start_in_s=0):\n",
    "    sound = scipy.io.loadmat(fp)\n",
    "    print('mixture shape: ' + (str(sound['earSout'].shape)))\n",
    "    play_from_array(sound['earSout'], name, framerate, start_in_s=start_in_s)\n",
    "    \n",
    "    \n",
    "def play_from_array(sound, name, framerate, start_in_s=0):\n",
    "    start_frame = int(start_in_s * framerate)\n",
    "    sound_arr = sound[start_frame:]\n",
    "    # somehow try to invert the second axis - may resolve the feeling that the events happen on the left side\n",
    "    #sound_arr = np.swapaxes(np.swapaxes(sound_arr, 0, sound_arr)[::-1], 0, 1)\n",
    "    sf.write('demo_sound_{}_start{}s.wav'.format(name, str(start_in_s)), sound_arr, framerate)\n",
    "    sd.play(sound_arr, framerate)"
   ]
  },
  {
   "cell_type": "code",
   "execution_count": null,
   "metadata": {},
   "outputs": [],
   "source": [
    "# master\n",
    "fp = \"/Users/Heiner/repos/binaural_audition/common/data/data_creation/generalSoundsNI.phone.TelephoneElectron+6037_36_3.wav.mat\"\n",
    "play_from_filepath(fp, 'mixture_TelephoneElectron+6037_36_3', start_in_s=25)"
   ]
  },
  {
   "cell_type": "code",
   "execution_count": null,
   "metadata": {},
   "outputs": [],
   "source": [
    "sd.stop()"
   ]
  },
  {
   "cell_type": "code",
   "execution_count": 4,
   "metadata": {},
   "outputs": [],
   "source": [
    "SNR_MASTER = 0\n",
    "SNR_DISTRACTOR1 = -20\n",
    "SNR_DISTRACTOR2 = 12\n",
    "\n",
    "def SNR_RATES(SNR_MASTER, SNR_DISTRACTOR1, SNR_DISTRACTOR2, SNR_DEVIATION_RATE = 0.9):\n",
    "    SNR_BIGGEST = max(SNR_MASTER, SNR_DISTRACTOR1, SNR_DISTRACTOR2)\n",
    "    SNR_SMALLEST = min(SNR_MASTER, SNR_DISTRACTOR1, SNR_DISTRACTOR2)\n",
    "    SNR_DIFF = SNR_BIGGEST - SNR_SMALLEST\n",
    "\n",
    "    SNR_MASTER *= SNR_DEVIATION_RATE\n",
    "    SNR_DISTRACTOR1 *= SNR_DEVIATION_RATE\n",
    "    SNR_DISTRACTOR2 *= SNR_DEVIATION_RATE\n",
    "    \n",
    "    if SNR_SMALLEST < 0:\n",
    "        SNR_ADD = abs(SNR_SMALLEST)\n",
    "        SNR_MASTER += SNR_ADD\n",
    "        SNR_DISTRACTOR1 += SNR_ADD\n",
    "        SNR_DISTRACTOR2 += SNR_ADD\n",
    "    SNR_MASTER_RATE = SNR_MASTER / SNR_DIFF\n",
    "    SNR_DISTRACTOR1_RATE = SNR_DISTRACTOR1 / SNR_DIFF\n",
    "    SNR_DISTRACTOR2_RATE = SNR_DISTRACTOR2 / SNR_DIFF\n",
    "    return SNR_MASTER_RATE, SNR_DISTRACTOR1_RATE, SNR_DISTRACTOR2_RATE\n",
    "\n",
    "SNR_MASTER_RATE, SNR_DISTRACTOR1_RATE, SNR_DISTRACTOR2_RATE = SNR_RATES(SNR_MASTER, SNR_DISTRACTOR1, SNR_DISTRACTOR2)"
   ]
  },
  {
   "cell_type": "code",
   "execution_count": null,
   "metadata": {},
   "outputs": [],
   "source": [
    "# distractor 1\n",
    "\n",
    "fp = '/Users/Heiner/repos/binaural_audition/common/data/data_creation/distractor1_no2_CloseOutsideMic2.wav'\n",
    "array, framerate = sf.read(fp) \n",
    "play_from_array(array, 'distractor1_no2', framerate, start_in_s=25-1.9219)\n",
    "sd.stop()\n",
    "\n",
    "fp = '/Users/Heiner/repos/binaural_audition/common/data/data_creation/distractor1_no3_BAG-PAPER_GEN-HDF-02778.wav'\n",
    "onset = 32.850875\n",
    "framerate, array = scipy.io.wavfile.read(fp)\n",
    "play_from_array(array, 'distractor1_no3', framerate, start_in_s=0)\n",
    "sd.stop()\n",
    "\n",
    "fp = '/Users/Heiner/repos/binaural_audition/common/data/data_creation/distractor1_no4_ScissorPaper_DIGIF5-88.wav'\n",
    "onset = 38.6094375\n",
    "framerate, array = scipy.io.wavfile.read(fp)\n",
    "time_sound = int((complete_mixture_length_in_s - onset) * framerate)\n",
    "array = array[:time_sound, :]\n",
    "play_from_array(array, 'distractor1_no4', framerate, start_in_s=0)\n",
    "sd.stop()\n",
    "\n",
    "# distractor 2\n",
    "\n",
    "fp = '/Users/Heiner/repos/binaural_audition/common/data/data_creation/distractor2_no3_CartoonFootsteps+4003_46_1.wav'\n",
    "onset = 12.0458125\n",
    "framerate, array = scipy.io.wavfile.read(fp)\n",
    "time_sound = int((complete_mixture_length_in_s - onset) * framerate)\n",
    "array = array[:time_sound, :]\n",
    "play_from_array(array, 'distractor2_no3', framerate, start_in_s=25-12.0458)\n",
    "sd.stop()"
   ]
  },
  {
   "cell_type": "code",
   "execution_count": 7,
   "metadata": {},
   "outputs": [],
   "source": [
    "def plot_from_array(sound, name, framerate, start_in_s=0, xlim=None, ylim=None, SNR_RATE=1, stereo=False):\n",
    "    # Three subplots sharing both x/y axes\n",
    "    if not stereo:\n",
    "        f, ax1 = plt.subplots(1, figsize=(10, 3))\n",
    "    else:\n",
    "        f, (ax1, ax2) = plt.subplots(2, sharex=True, figsize=(10, 6))\n",
    "    \n",
    "    start_frame = int(start_in_s * framerate)\n",
    "    x = np.arange(start_frame, start_frame + sound.shape[0], 1)\n",
    "    x = x / framerate\n",
    "    \n",
    "    if stereo:\n",
    "        f.subplots_adjust(hspace=0)\n",
    "    \n",
    "    ax1.plot(x, SNR_RATE*sound[:, 0])\n",
    "    if stereo:\n",
    "        ax2.plot(x, SNR_RATE*sound[:, 1])\n",
    "    plt.setp([a.set_yticks([]) for a in f.axes[:]])\n",
    "    if ylim is not None:\n",
    "        plt.setp([a.set_ylim(ylim) for a in f.axes[:]])\n",
    "    if xlim is not None:\n",
    "        plt.setp([a.set_xlim(xlim) for a in f.axes[:]])\n",
    "    f.savefig(name + '.pdf')\n"
   ]
  },
  {
   "cell_type": "code",
   "execution_count": 6,
   "metadata": {},
   "outputs": [],
   "source": [
    "def concat_sources(fps):\n",
    "    arrays = []\n",
    "    framerates = []\n",
    "    for fp in fps:\n",
    "        array, framerate = sf.read(fp) \n",
    "        shape = array.shape\n",
    "        if len(shape) == 1: \n",
    "            array = array[:, np.newaxis]\n",
    "            shape = array.shape\n",
    "            if shape[1] == 1:\n",
    "                array = np.repeat(array, 2, axis=1)\n",
    "        arrays.append(array)\n",
    "        framerates.append(framerate)\n",
    "    if len(np.unique(np.array(framerates))) != 1:\n",
    "        raise ValueError('Different framerates!')\n",
    "    return arrays, framerates[0]\n",
    "\n",
    "def merge_sources(last_frame, arrays, start_frames_in_source, start_frames_in_result):\n",
    "    result = np.full((last_frame, 2), np.nan)\n",
    "    for array, start_frame_in_source, start_frame_in_result in zip(arrays, start_frames_in_source, start_frames_in_result):\n",
    "        shape = array.shape\n",
    "        length = shape[0] - start_frame_in_source\n",
    "        if start_frame_in_result+length > last_frame:\n",
    "            stop_in_result = last_frame\n",
    "            stop_in_source = start_frame_in_source + (stop_in_result - start_frame_in_result)\n",
    "        else:\n",
    "            stop_in_result = start_frame_in_result+length\n",
    "            stop_in_source = shape[0]\n",
    "        result[start_frame_in_result:stop_in_result, :] = array[start_frame_in_source:stop_in_source, :]\n",
    "    return result"
   ]
  },
  {
   "cell_type": "code",
   "execution_count": null,
   "metadata": {},
   "outputs": [],
   "source": [
    "# distractor 1\n",
    "\n",
    "fps = ['/Users/Heiner/repos/binaural_audition/common/data/data_creation/distractor1_no2_CloseOutsideMic2.wav', '/Users/Heiner/repos/binaural_audition/common/data/data_creation/distractor1_no3_BAG-PAPER_GEN-HDF-02778.wav', '/Users/Heiner/repos/binaural_audition/common/data/data_creation/distractor1_no4_ScissorPaper_DIGIF5-88.wav']\n",
    "arrays, framerate = concat_sources(fps)\n",
    "\n",
    "start_in_s = 25-1.9219\n",
    "start_frame_in_source_no2 = int(start_in_s * framerate)\n",
    "start_frame_in_source_no3 = 0\n",
    "start_frame_in_source_no4 = 0\n",
    "start_frames_in_source = [start_frame_in_source_no2, start_frame_in_source_no3, start_frame_in_source_no4]\n",
    "\n",
    "last_frame = int(complete_mixture_length_in_s * framerate) - int(25 * framerate)\n",
    "\n",
    "start_frame_in_result_no2 = 0\n",
    "start_frame_in_result_no3 = int((32.850875-25) * framerate)\n",
    "start_frame_in_result_no4 = int((38.6094375-25) * framerate)\n",
    "start_frames_in_result = [start_frame_in_result_no2, start_frame_in_result_no3, start_frame_in_result_no4]\n",
    "\n",
    "result_distr1 = merge_sources(last_frame, arrays, start_frames_in_source, start_frames_in_result)"
   ]
  },
  {
   "cell_type": "code",
   "execution_count": null,
   "metadata": {},
   "outputs": [],
   "source": [
    "# distractor 2\n",
    "\n",
    "fps = ['/Users/Heiner/repos/binaural_audition/common/data/data_creation/distractor2_no3_CartoonFootsteps+4003_46_1.wav']\n",
    "arrays, framerate = concat_sources(fps)\n",
    "\n",
    "start_in_s = 25-12.0458125\n",
    "start_frame_in_source_no3 = int(start_in_s * framerate)\n",
    "start_frames_in_source = [start_frame_in_source_no3]\n",
    "\n",
    "last_frame = int(complete_mixture_length_in_s * framerate) - int(25 * framerate)\n",
    "\n",
    "start_frame_in_result_no3 = 0\n",
    "start_frames_in_result = [start_frame_in_result_no3]\n",
    "\n",
    "result_distr2 = merge_sources(last_frame, arrays, start_frames_in_source, start_frames_in_result)"
   ]
  },
  {
   "cell_type": "code",
   "execution_count": null,
   "metadata": {},
   "outputs": [],
   "source": [
    "# master\n",
    "\n",
    "fps = ['/Users/Heiner/repos/binaural_audition/common/data/data_creation/master_TelephoneElectron+6037_36_3.wav', '/Users/Heiner/repos/binaural_audition/common/data/data_creation/master_TelephoneElectron+6037_36_3.wav']\n",
    "arrays, framerate = concat_sources(fps)\n",
    "\n",
    "start_in_s = 25-14.524875\n",
    "start_frame_in_source_no2 = int(start_in_s * framerate)\n",
    "start_frame_in_source_no3 = 0\n",
    "start_frames_in_source = [start_frame_in_source_no2, start_frame_in_source_no3]\n",
    "\n",
    "last_frame = int(complete_mixture_length_in_s * framerate) - int(25 * framerate)\n",
    "\n",
    "start_frame_in_result_no2 = 0\n",
    "start_frame_in_result_no3 = int((28.54975-25) * framerate)\n",
    "start_frames_in_result = [start_frame_in_result_no2, start_frame_in_result_no3]\n",
    "\n",
    "result_master = merge_sources(last_frame, arrays, start_frames_in_source, start_frames_in_result)"
   ]
  },
  {
   "cell_type": "code",
   "execution_count": 8,
   "metadata": {},
   "outputs": [
    {
     "name": "stdout",
     "output_type": "stream",
     "text": [
      "\n"
     ]
    },
    {
     "data": {
      "image/png": "[encoded data removed]",
      "text/plain": [
       "<Figure size 720x432 with 2 Axes>"
      ]
     },
     "metadata": {},
     "output_type": "display_data"
    }
   ],
   "source": [
    "# mixture\n",
    "\n",
    "fps = ['/Users/Heiner/repos/binaural_audition/common/data/data_creation/demo_sound_mixture_TelephoneElectron+6037_36_3_start25s.wav']\n",
    "arrays, framerate_mixture = concat_sources(fps)\n",
    "\n",
    "start_frames_in_source = [0]\n",
    "\n",
    "last_frame = int(complete_mixture_length_in_s * framerate_mixture) - int(25 * framerate_mixture)\n",
    "\n",
    "start_frames_in_result = [0]\n",
    "\n",
    "result_mixture = merge_sources(last_frame, arrays, start_frames_in_source, start_frames_in_result)\n",
    "plot_from_array(result_mixture, 'mixture', framerate_mixture, start_in_s=25, xlim=(25, 42), SNR_RATE=1, stereo=True)\n",
    "#plt.close()\n",
    "#plot_from_array(result_mixture, 'mixture_wav_inner', framerate_mixture, start_in_s=25, xlim=(35, 36), SNR_RATE=1, stereo=True)\n",
    "#plt.close()"
   ]
  },
  {
   "cell_type": "code",
   "execution_count": null,
   "metadata": {},
   "outputs": [],
   "source": [
    "abs_max = np.abs(np.nanmax([np.nanmax(result_distr1)*SNR_DISTRACTOR1_RATE, np.nanmax(result_distr2)*SNR_DISTRACTOR2_RATE, np.nanmax(result_master)*SNR_MASTER_RATE]))\n",
    "abs_min = np.abs(np.nanmin([np.nanmin(result_distr1)*SNR_DISTRACTOR1_RATE, np.nanmin(result_distr2)*SNR_DISTRACTOR2_RATE, np.nanmin(result_master)*SNR_MASTER_RATE]))\n",
    "maxi = np.maximum(abs_max, abs_min)\n",
    "ylim = (-maxi * 1.1, maxi * 1.1)\n",
    "\n",
    "plot_from_array(result_distr1, 'distractor1', framerate, start_in_s=25, xlim=(25, 42), ylim=ylim, SNR_RATE=SNR_DISTRACTOR1_RATE)\n",
    "plot_from_array(result_distr2, 'distractor2', framerate, start_in_s=25, xlim=(25, 42), ylim=ylim, SNR_RATE=SNR_DISTRACTOR2_RATE)\n",
    "plot_from_array(result_master, 'master', framerate, start_in_s=25, xlim=(25, 42), ylim=ylim, SNR_RATE=SNR_MASTER_RATE)"
   ]
  },
  {
   "cell_type": "code",
   "execution_count": null,
   "metadata": {},
   "outputs": [],
   "source": [
    "data = np.load('/Users/Heiner/repos/binaural_audition/common/data/data_creation/generalSoundsNI.phone.TelephoneElectron+6037_36_3.wav.mat.npz')"
   ]
  },
  {
   "cell_type": "code",
   "execution_count": null,
   "metadata": {},
   "outputs": [],
   "source": [
    "data['y'][0, 25*100:,:].shape\n",
    "matched_data_part = np.repeat(data['y'][0, 25*100:,:], framerate_mixture / 100, axis=0)\n",
    "matched_data = np.full((result_mixture.shape[0], 13), np.nan)\n",
    "matched_data[:matched_data_part.shape[0], :] = matched_data_part\n",
    "matched_data.shape\n",
    "\n",
    "labels = ['alarm', 'baby', 'femaleSpeech',  'fire', 'crash', 'dog', 'engine', 'footsteps', 'knock', 'phone', 'piano', 'maleSpeech', 'femaleScreammaleScream']"
   ]
  },
  {
   "cell_type": "code",
   "execution_count": null,
   "metadata": {},
   "outputs": [],
   "source": [
    "sparse = True\n",
    "\n",
    "\n",
    "if not sparse:\n",
    "    fig, ax1 = plt.subplots(1,1, figsize=(10, 10))\n",
    "    plot_data = np.copy(matched_data)\n",
    "    ax1.set_yticks(np.arange(0, 13))\n",
    "    ax1.set_yticklabels(labels)\n",
    "else:\n",
    "    non_empty = np.where(np.any(matched_data>=1, axis=0))[0]\n",
    "    fig, ax1 = plt.subplots(1,1, figsize=(10, (10/13)*len(non_empty)))\n",
    "    non_empty = np.where(np.any(matched_data>=1, axis=0))[0]\n",
    "    plot_data = np.copy(matched_data)\n",
    "    plot_data = plot_data[:, non_empty]\n",
    "    ax1.set_yticks(np.arange(0, len(non_empty)))\n",
    "    ax1.set_yticklabels([labels[index] for index in non_empty])\n",
    "    \n",
    "ax1.imshow(plot_data.T, cmap='Greys', aspect='auto')\n",
    "x = np.arange(framerate_mixture, plot_data.shape[0], 2*framerate_mixture)\n",
    "x_labels = np.arange(26, 44, 2)\n",
    "ax1.set_xticks(x)\n",
    "ax1.set_xticklabels(x_labels)\n",
    "xlim=((25-25), (42-25)*framerate_mixture)\n",
    "ax1.set_xlim(xlim)"
   ]
  },
  {
   "cell_type": "code",
   "execution_count": null,
   "metadata": {},
   "outputs": [],
   "source": [
    "# distr 1: piano, general, general\n",
    "# distr 2: footsteps\n",
    "# master: phone"
   ]
  },
  {
   "cell_type": "code",
   "execution_count": null,
   "metadata": {},
   "outputs": [],
   "source": [
    "labels = ['alarm', 'baby', 'femaleSpeech',  'fire', 'crash', 'dog', 'engine', 'footsteps', 'knock', 'phone', 'piano', 'maleSpeech', 'femaleScreammaleScream']"
   ]
  },
  {
   "cell_type": "code",
   "execution_count": null,
   "metadata": {},
   "outputs": [],
   "source": [
    "result_mixture.shape[0]"
   ]
  },
  {
   "cell_type": "code",
   "execution_count": null,
   "metadata": {},
   "outputs": [],
   "source": [
    "# framerate pro sekunden\n",
    "# framerate / 1000 pro millisekunde\n",
    "# framerate / 100 pro 10 millisekunde"
   ]
  },
  {
   "cell_type": "code",
   "execution_count": null,
   "metadata": {},
   "outputs": [],
   "source": [
    "# ratemaps feat 0 - 31\n",
    "# ams      feat 32 - 159"
   ]
  },
  {
   "cell_type": "code",
   "execution_count": null,
   "metadata": {},
   "outputs": [],
   "source": [
    "def timemapping(start_s, end_s, framerate_mixture):\n",
    "    real_start = start_s - 25\n",
    "    real_end = end_s - 25\n",
    "    return real_start * framerate, real_end * framerate_mixture"
   ]
  },
  {
   "cell_type": "code",
   "execution_count": null,
   "metadata": {},
   "outputs": [],
   "source": [
    "data = np.load('/Users/Heiner/repos/binaural_audition/common/data/data_creation/generalSoundsNI.phone.TelephoneElectron+6037_36_3.wav.mat.npz')\n",
    "\n",
    "matched_data_part = np.repeat(data['x'][0, 25*100:,:], framerate_mixture / 100, axis=0)\n",
    "matched_data = np.full((result_mixture.shape[0], 160), np.nan)\n",
    "matched_data[:matched_data_part.shape[0], :] = matched_data_part\n",
    "\n",
    "ratemaps = matched_data[:, :32]\n",
    "ams = matched_data[:, 32:]\n",
    "matched_data.shape[0]"
   ]
  },
  {
   "cell_type": "code",
   "execution_count": null,
   "metadata": {},
   "outputs": [],
   "source": [
    "fig, ax1 = plt.subplots(1,1, figsize=(13, 5))\n",
    "plot_data = np.copy(ratemaps)\n",
    "ax1.set_yticks(np.array([0, 19, 31]))\n",
    "ax1.set_yticklabels(np.array([8000, 2080, 80]))    \n",
    "img = ax1.imshow(plot_data.T, aspect='auto', cmap='jet')\n",
    "cb = plt.colorbar(img, ax=ax1)\n",
    "cb.set_ticks([])\n",
    "x = np.arange(framerate_mixture, plot_data.shape[0], 2*framerate_mixture)\n",
    "x_labels = np.arange(26, 44, 2)\n",
    "ax1.set_xticks(x)\n",
    "ax1.set_xticklabels(x_labels)\n",
    "xlim=((25-25), (42-25)*framerate_mixture)\n",
    "ax1.set_xlim(xlim)\n",
    "ax1.set_ylabel('frequency')\n",
    "ax1.set_xlabel('time in s')\n",
    "fig.savefig('ratemap.pdf', transparent=True)\n",
    "\n",
    "# zahlen raus"
   ]
  },
  {
   "cell_type": "code",
   "execution_count": null,
   "metadata": {},
   "outputs": [],
   "source": [
    "fig, ax1 = plt.subplots(1,1, figsize=(13, 5))\n",
    "plot_data = np.copy(ams[:, :16])\n",
    "print(plot_data.shape)\n",
    "ax1.set_yticks(np.array([0, 6, 15]))\n",
    "ax1.set_yticklabels(np.array([8000, 1984, 80]))    \n",
    "img = ax1.imshow(plot_data.T, cmap='jet', aspect='auto')\n",
    "cb = plt.colorbar(img, ax=ax1)\n",
    "cb.set_ticks([])\n",
    "x = np.arange(framerate_mixture, plot_data.shape[0], 2*framerate_mixture)\n",
    "x_labels = np.arange(26, 44, 2)\n",
    "ax1.set_xticks(x)\n",
    "ax1.set_xticklabels(x_labels)\n",
    "xlim=((25-25), (42-25)*framerate_mixture)\n",
    "ax1.set_xlim(xlim)\n",
    "ax1.set_ylabel('center frequency')\n",
    "#ax1.set_title('modulation frequency 2')\n",
    "ax1.set_xlabel('time in s')"
   ]
  },
  {
   "cell_type": "code",
   "execution_count": null,
   "metadata": {},
   "outputs": [],
   "source": [
    "data = np.load('/Users/Heiner/repos/binaural_audition/common/data/data_creation/generalSoundsNI.phone.TelephoneElectron+6037_36_3.wav.mat.npz')"
   ]
  },
  {
   "cell_type": "code",
   "execution_count": null,
   "metadata": {},
   "outputs": [],
   "source": [
    "data['y'][0, 25*100:,:].shape\n",
    "matched_data_part = np.repeat(data['y'][0, 25*100:,:], framerate_mixture / 100, axis=0)\n",
    "matched_data = np.full((result_mixture.shape[0], 13), np.nan)\n",
    "matched_data[:matched_data_part.shape[0], :] = matched_data_part\n",
    "matched_data.shape\n",
    "\n",
    "labels = ['alarm', 'baby', 'femaleSpeech',  'fire', 'crash', 'dog', 'engine', 'footsteps', 'knock', 'phone', 'piano', 'maleSpeech', 'femaleScreammaleScream']"
   ]
  },
  {
   "cell_type": "code",
   "execution_count": null,
   "metadata": {},
   "outputs": [],
   "source": [
    "matched_data[matched_data == np.nan]"
   ]
  },
  {
   "cell_type": "code",
   "execution_count": null,
   "metadata": {},
   "outputs": [],
   "source": [
    "sparse = False\n",
    "\n",
    "\n",
    "if not sparse:\n",
    "    fig, ax1 = plt.subplots(1,1, figsize=(10, 5))\n",
    "    plot_data = np.copy(matched_data)\n",
    "    ax1.set_yticks(np.arange(0, 13))\n",
    "    ax1.set_yticklabels(labels)\n",
    "else:\n",
    "    non_empty = np.where(np.any(matched_data>=1, axis=0))[0]\n",
    "    fig, ax1 = plt.subplots(1,1, figsize=(10, (5/13)*len(non_empty)))\n",
    "    non_empty = np.where(np.any(matched_data>=1, axis=0))[0]\n",
    "    plot_data = np.copy(matched_data)\n",
    "    plot_data = plot_data[:, non_empty]\n",
    "    ax1.set_yticks(np.arange(0, len(non_empty)))\n",
    "    ax1.set_yticklabels([labels[index] for index in non_empty])\n",
    "    \n",
    "ax1.imshow(plot_data.T, cmap='Greys', aspect='auto')\n",
    "ax1.grid(axis='y')\n",
    "x = np.arange(framerate_mixture, plot_data.shape[0], 2*framerate_mixture)\n",
    "x_labels = np.arange(26, 44, 2)\n",
    "ax1.set_xticks(x)\n",
    "ax1.set_xticklabels(x_labels)\n",
    "xlim=((25-25), (42-25)*framerate_mixture)\n",
    "ax1.set_xlim(xlim)\n",
    "\n",
    "# linien"
   ]
  },
  {
   "cell_type": "code",
   "execution_count": null,
   "metadata": {},
   "outputs": [],
   "source": [
    "sounds_path = '/Users/Heiner/mounted/binAudData/reposX/twoears-data/sound_databases/generalSoundsNI/'\n",
    "import glob\n",
    "import os.path\n",
    "\n",
    "everything_in_dir = glob.glob(sounds_path+'*')\n",
    "folders_in_dir = []\n",
    "\n",
    "for name in everything_in_dir:\n",
    "    if os.path.isdir(name):\n",
    "        folders_in_dir.append(name)\n"
   ]
  },
  {
   "cell_type": "code",
   "execution_count": null,
   "metadata": {},
   "outputs": [],
   "source": [
    "folders_in_dir"
   ]
  },
  {
   "cell_type": "code",
   "execution_count": null,
   "metadata": {},
   "outputs": [],
   "source": [
    "from tqdm import tqdm\n",
    "\n",
    "counts_dir = dict()\n",
    "lengths_dir = dict()\n",
    "\n",
    "for folder in folders_in_dir:\n",
    "    sound_class = folder.split('/')[-1]\n",
    "    valid_files = [file for file in glob.glob(folder+'/*') if file.endswith('wav')]\n",
    "    counts_dir[sound_class] = len(valid_files)\n",
    "    #lengths = []\n",
    "    #for valid_file in tqdm(valid_files):\n",
    "    #    data, framerate = sf.read(valid_file)\n",
    "    #    lengths.append(len(data) / framerate)\n",
    "    #lengths_dir[sound_class] = lengths"
   ]
  },
  {
   "cell_type": "code",
   "execution_count": null,
   "metadata": {},
   "outputs": [],
   "source": [
    "counts_dir"
   ]
  },
  {
   "cell_type": "code",
   "execution_count": null,
   "metadata": {},
   "outputs": [],
   "source": [
    "a = np.zeros((10, 2))"
   ]
  },
  {
   "cell_type": "code",
   "execution_count": null,
   "metadata": {},
   "outputs": [],
   "source": [
    "len(a)"
   ]
  },
  {
   "cell_type": "code",
   "execution_count": null,
   "metadata": {},
   "outputs": [],
   "source": [
    "min_max_lengths_dict = dict()\n",
    "for key, lengths in lengths_dir.items():\n",
    "    min_max_lengths_dict[key] = (np.min(lengths), np.max(lengths))"
   ]
  },
  {
   "cell_type": "code",
   "execution_count": null,
   "metadata": {},
   "outputs": [],
   "source": [
    "min_max_lengths_dict"
   ]
  },
  {
   "cell_type": "code",
   "execution_count": null,
   "metadata": {},
   "outputs": [],
   "source": [
    "sum = 0\n",
    "for key, count in counts_dir.items():\n",
    "    if key != 'general':\n",
    "        sum += count\n",
    "sum"
   ]
  },
  {
   "cell_type": "code",
   "execution_count": null,
   "metadata": {},
   "outputs": [],
   "source": [
    "sum_lengths_dict = dict()\n",
    "for key, lengths in lengths_dir.items():\n",
    "    sum_lengths_dict[key] = np.sum(lengths)"
   ]
  },
  {
   "cell_type": "code",
   "execution_count": null,
   "metadata": {},
   "outputs": [],
   "source": [
    "sum_lengths_dict"
   ]
  },
  {
   "cell_type": "code",
   "execution_count": null,
   "metadata": {},
   "outputs": [],
   "source": [
    "sum_lengths = 0\n",
    "for key, length in sum_lengths_dict.items():\n",
    "    if key != 'general':\n",
    "        sum_lengths += length\n",
    "sum_lengths        "
   ]
  },
  {
   "cell_type": "code",
   "execution_count": 9,
   "metadata": {},
   "outputs": [],
   "source": [
    "import pickle\n",
    "file_lengths = pickle.load( open( \"/Users/Heiner/repos/binaural_audition/common/data/data_creation/file_lengths.pickle\", \"rb\" ) )"
   ]
  },
  {
   "cell_type": "code",
   "execution_count": 10,
   "metadata": {},
   "outputs": [],
   "source": [
    "count_lengths_dict = dict()\n",
    "for _, length in file_lengths.items():\n",
    "    if length not in count_lengths_dict:\n",
    "        count_lengths_dict[length] = 1\n",
    "    else:\n",
    "        count_lengths_dict[length] += 1"
   ]
  },
  {
   "cell_type": "code",
   "execution_count": 16,
   "metadata": {},
   "outputs": [
    {
     "data": {
      "text/plain": [
       "(-10, 4320)"
      ]
     },
     "execution_count": 16,
     "metadata": {},
     "output_type": "execute_result"
    },
    {
     "data": {
      "image/png": "[encoded data removed]",
      "text/plain": [
       "<Figure size 432x288 with 1 Axes>"
      ]
     },
     "metadata": {},
     "output_type": "display_data"
    }
   ],
   "source": [
    "plt.figure()\n",
    "plt.bar(list(count_lengths_dict.keys()), count_lengths_dict.values(), width=50, color='g')\n",
    "max_y = np.max(list(count_lengths_dict.values()))\n",
    "plt.ylim((-10, max_y))"
   ]
  },
  {
   "cell_type": "code",
   "execution_count": null,
   "metadata": {},
   "outputs": [],
   "source": [
    "np.max(list(count_lengths_dict.keys()))"
   ]
  },
  {
   "cell_type": "code",
   "execution_count": null,
   "metadata": {},
   "outputs": [],
   "source": []
  }
 ],
 "metadata": {
  "kernelspec": {
   "display_name": "Python 3",
   "language": "python",
   "name": "python3"
  },
  "language_info": {
   "codemirror_mode": {
    "name": "ipython",
    "version": 3
   },
   "file_extension": ".py",
   "mimetype": "text/x-python",
   "name": "python",
   "nbconvert_exporter": "python",
   "pygments_lexer": "ipython3",
   "version": "3.6.5"
  }
 },
 "nbformat": 4,
 "nbformat_minor": 2
}
